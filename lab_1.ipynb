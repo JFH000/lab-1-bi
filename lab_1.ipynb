version https://git-lfs.github.com/spec/v1
oid sha256:2e0c31afb4f11c31814af73ab3ca7230ea8a7fc3b4c7174bee916591247659ae
size 250439
