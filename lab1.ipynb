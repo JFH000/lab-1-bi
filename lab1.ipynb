version https://git-lfs.github.com/spec/v1
oid sha256:a8197a6b09355dd3836492f1c11ba1ec67bbc244ecc6785933ac663a29496d87
size 128617117
