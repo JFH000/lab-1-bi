{
 "cells": [
  {
   "cell_type": "markdown",
   "id": "d3bef8d9",
   "metadata": {},
   "source": [
    "# Laboratorio 1 BI"
   ]
  },
  {
   "cell_type": "markdown",
   "id": "8454a68e",
   "metadata": {},
   "source": [
    "## Paso 0: Configuración inicial y equipo\n",
    "\n",
    "### Virtual enviroment\n",
    "``` bash\n",
    "pip install virtualenv\n",
    "python -m venv venv\n",
    "venv\\Scripts\\activate\n",
    "pip install pandas matplotlib seaborn scikit-learn\n",
    "```"
   ]
  },
  {
   "cell_type": "markdown",
   "id": "84f538ba",
   "metadata": {},
   "source": [
    "### Equipo\n",
    "\n",
    "- Estudiante 1: \n",
    "- Estudiante 2: Juan Felipe Hernández\n",
    "- Estudiante 3: "
   ]
  },
  {
   "cell_type": "markdown",
   "id": "d1f57bb1",
   "metadata": {},
   "source": [
    "### Carga de datos"
   ]
  },
  {
   "cell_type": "code",
   "execution_count": 1,
   "id": "d4176faa",
   "metadata": {},
   "outputs": [
    {
     "data": {
      "text/html": [
       "<div>\n",
       "<style scoped>\n",
       "    .dataframe tbody tr th:only-of-type {\n",
       "        vertical-align: middle;\n",
       "    }\n",
       "\n",
       "    .dataframe tbody tr th {\n",
       "        vertical-align: top;\n",
       "    }\n",
       "\n",
       "    .dataframe thead th {\n",
       "        text-align: right;\n",
       "    }\n",
       "</style>\n",
       "<table border=\"1\" class=\"dataframe\">\n",
       "  <thead>\n",
       "    <tr style=\"text-align: right;\">\n",
       "      <th></th>\n",
       "      <th>Jugador</th>\n",
       "      <th>Nacionalidad</th>\n",
       "      <th>Posicion</th>\n",
       "      <th>Edad</th>\n",
       "      <th>Dia_partido</th>\n",
       "      <th>Goles</th>\n",
       "      <th>Tiros Totales</th>\n",
       "      <th>xG</th>\n",
       "      <th>npxG</th>\n",
       "      <th>xAG</th>\n",
       "      <th>...</th>\n",
       "      <th>Malos_controles</th>\n",
       "      <th>Perdida_balon</th>\n",
       "      <th>Pases_recibidos</th>\n",
       "      <th>Pases_progresivos_recibidos</th>\n",
       "      <th>Faltas_cometidas</th>\n",
       "      <th>Centros</th>\n",
       "      <th>Duelos_aereos_ganados</th>\n",
       "      <th>%_de_duelos_aereos_ganados</th>\n",
       "      <th>market_value</th>\n",
       "      <th>contract_date</th>\n",
       "    </tr>\n",
       "  </thead>\n",
       "  <tbody>\n",
       "    <tr>\n",
       "      <th>0</th>\n",
       "      <td>Bruno Fernandes</td>\n",
       "      <td>pt POR</td>\n",
       "      <td>FW,AM</td>\n",
       "      <td>29-343</td>\n",
       "      <td>Friday August 16, 2024</td>\n",
       "      <td>0</td>\n",
       "      <td>6</td>\n",
       "      <td>1.2</td>\n",
       "      <td>1.2</td>\n",
       "      <td>0.0</td>\n",
       "      <td>...</td>\n",
       "      <td>1</td>\n",
       "      <td>2</td>\n",
       "      <td>51</td>\n",
       "      <td>7</td>\n",
       "      <td>0</td>\n",
       "      <td>8</td>\n",
       "      <td>0</td>\n",
       "      <td>0.0</td>\n",
       "      <td>€50.00m</td>\n",
       "      <td>30.06.2027</td>\n",
       "    </tr>\n",
       "    <tr>\n",
       "      <th>1</th>\n",
       "      <td>Marcus Rashford</td>\n",
       "      <td>eng ENG</td>\n",
       "      <td>LW</td>\n",
       "      <td>26-290</td>\n",
       "      <td>Friday August 16, 2024</td>\n",
       "      <td>0</td>\n",
       "      <td>0</td>\n",
       "      <td>0.0</td>\n",
       "      <td>0.0</td>\n",
       "      <td>0.7</td>\n",
       "      <td>...</td>\n",
       "      <td>2</td>\n",
       "      <td>1</td>\n",
       "      <td>37</td>\n",
       "      <td>9</td>\n",
       "      <td>1</td>\n",
       "      <td>1</td>\n",
       "      <td>1</td>\n",
       "      <td>100.0</td>\n",
       "      <td>€50.00m</td>\n",
       "      <td>30.06.2026</td>\n",
       "    </tr>\n",
       "    <tr>\n",
       "      <th>2</th>\n",
       "      <td>Amad Diallo</td>\n",
       "      <td>ci CIV</td>\n",
       "      <td>RW</td>\n",
       "      <td>22-036</td>\n",
       "      <td>Friday August 16, 2024</td>\n",
       "      <td>0</td>\n",
       "      <td>0</td>\n",
       "      <td>0.0</td>\n",
       "      <td>0.0</td>\n",
       "      <td>0.1</td>\n",
       "      <td>...</td>\n",
       "      <td>2</td>\n",
       "      <td>2</td>\n",
       "      <td>26</td>\n",
       "      <td>7</td>\n",
       "      <td>0</td>\n",
       "      <td>2</td>\n",
       "      <td>0</td>\n",
       "      <td>0.0</td>\n",
       "      <td>-</td>\n",
       "      <td>30.06.2027</td>\n",
       "    </tr>\n",
       "    <tr>\n",
       "      <th>3</th>\n",
       "      <td>Amad Diallo</td>\n",
       "      <td>ci CIV</td>\n",
       "      <td>RW</td>\n",
       "      <td>22-036</td>\n",
       "      <td>Friday August 16, 2024</td>\n",
       "      <td>-5</td>\n",
       "      <td>0</td>\n",
       "      <td>0.0</td>\n",
       "      <td>0.0</td>\n",
       "      <td>0.1</td>\n",
       "      <td>...</td>\n",
       "      <td>2</td>\n",
       "      <td>2</td>\n",
       "      <td>26</td>\n",
       "      <td>7</td>\n",
       "      <td>0</td>\n",
       "      <td>2</td>\n",
       "      <td>0</td>\n",
       "      <td>0.0</td>\n",
       "      <td>€1000.00m</td>\n",
       "      <td>30.06.2030</td>\n",
       "    </tr>\n",
       "    <tr>\n",
       "      <th>4</th>\n",
       "      <td>Alejandro Garnacho</td>\n",
       "      <td>ar ARG</td>\n",
       "      <td>RW</td>\n",
       "      <td>20-046</td>\n",
       "      <td>Friday August 16, 2024</td>\n",
       "      <td>0</td>\n",
       "      <td>2</td>\n",
       "      <td>0.7</td>\n",
       "      <td>0.7</td>\n",
       "      <td>0.2</td>\n",
       "      <td>...</td>\n",
       "      <td>2</td>\n",
       "      <td>1</td>\n",
       "      <td>12</td>\n",
       "      <td>3</td>\n",
       "      <td>0</td>\n",
       "      <td>1</td>\n",
       "      <td>1</td>\n",
       "      <td>50.0</td>\n",
       "      <td>€45.00m</td>\n",
       "      <td>30.06.2028</td>\n",
       "    </tr>\n",
       "  </tbody>\n",
       "</table>\n",
       "<p>5 rows × 50 columns</p>\n",
       "</div>"
      ],
      "text/plain": [
       "              Jugador Nacionalidad Posicion    Edad             Dia_partido  \\\n",
       "0     Bruno Fernandes       pt POR    FW,AM  29-343  Friday August 16, 2024   \n",
       "1     Marcus Rashford      eng ENG       LW  26-290  Friday August 16, 2024   \n",
       "2         Amad Diallo       ci CIV       RW  22-036  Friday August 16, 2024   \n",
       "3         Amad Diallo       ci CIV       RW  22-036  Friday August 16, 2024   \n",
       "4  Alejandro Garnacho       ar ARG       RW  20-046  Friday August 16, 2024   \n",
       "\n",
       "   Goles  Tiros Totales   xG  npxG  xAG  ...  Malos_controles  Perdida_balon  \\\n",
       "0      0              6  1.2   1.2  0.0  ...                1              2   \n",
       "1      0              0  0.0   0.0  0.7  ...                2              1   \n",
       "2      0              0  0.0   0.0  0.1  ...                2              2   \n",
       "3     -5              0  0.0   0.0  0.1  ...                2              2   \n",
       "4      0              2  0.7   0.7  0.2  ...                2              1   \n",
       "\n",
       "   Pases_recibidos  Pases_progresivos_recibidos  Faltas_cometidas  Centros  \\\n",
       "0               51                            7                 0        8   \n",
       "1               37                            9                 1        1   \n",
       "2               26                            7                 0        2   \n",
       "3               26                            7                 0        2   \n",
       "4               12                            3                 0        1   \n",
       "\n",
       "   Duelos_aereos_ganados  %_de_duelos_aereos_ganados  market_value  \\\n",
       "0                      0                         0.0       €50.00m   \n",
       "1                      1                       100.0       €50.00m   \n",
       "2                      0                         0.0             -   \n",
       "3                      0                         0.0     €1000.00m   \n",
       "4                      1                        50.0       €45.00m   \n",
       "\n",
       "   contract_date  \n",
       "0     30.06.2027  \n",
       "1     30.06.2026  \n",
       "2     30.06.2027  \n",
       "3     30.06.2030  \n",
       "4     30.06.2028  \n",
       "\n",
       "[5 rows x 50 columns]"
      ]
     },
     "execution_count": 1,
     "metadata": {},
     "output_type": "execute_result"
    }
   ],
   "source": [
    "import pandas as pd\n",
    "\n",
    "df = pd.read_csv('datos_entrenamiento_laboratorio1(train_data).csv')\n",
    "df.head()"
   ]
  },
  {
   "cell_type": "markdown",
   "id": "f974008f",
   "metadata": {},
   "source": [
    "## Paso 1: Descripción y entendimeinto de datos"
   ]
  },
  {
   "cell_type": "markdown",
   "id": "9a75a39c",
   "metadata": {},
   "source": [
    "### Análisis descriptivo"
   ]
  },
  {
   "cell_type": "markdown",
   "id": "0e9c05b1",
   "metadata": {},
   "source": [
    "### Análisis de caidad de datos"
   ]
  },
  {
   "cell_type": "markdown",
   "id": "34fc270d",
   "metadata": {},
   "source": [
    "### Análisis exploratorio"
   ]
  },
  {
   "cell_type": "code",
   "execution_count": null,
   "metadata": {},
   "outputs": [],
   "source": []
  },
  {
   "cell_type": "markdown",
   "id": "671ee883",
   "metadata": {},
   "source": [
    "- [ ] **Dimensionamiento del conjunto de datos: numero de jugadores y numero de variables**\n",
    "- [ ] **Tipos de datos: Identificar y listar variables clasificandolas por tipos y categorias**\n",
    "- [x] **Identificación de variable objetivo** -> Valor de mercado del jugador"
   ]
  },
  {
   "cell_type": "markdown",
   "id": "cab5baa5",
   "metadata": {},
   "source": [
    "## Paso 2: Descripción del proceso de selección de variables"
   ]
  },
  {
   "cell_type": "markdown",
   "id": "9c8a75f0",
   "metadata": {},
   "source": [
    "## Paso 3: Descripción e implementación del proceso de preparación de datos + limpieza de datos (estudiante 3)"
   ]
  },
  {
   "cell_type": "markdown",
   "id": "a917e7a9",
   "metadata": {},
   "source": [
    "## Paso 4: Construcción del modelo de regersión ineal y cálculo de sus métricas de calidad (estudiante 1)"
   ]
  },
  {
   "cell_type": "markdown",
   "id": "7a3ff4b3",
   "metadata": {},
   "source": [
    "## Paso 5: Implementación del pipeline con todas las transformaciones requeridas para la generación de predicciones, exportado en formato .joblib (estudiante 1)"
   ]
  },
  {
   "cell_type": "markdown",
   "id": "d8fa1177",
   "metadata": {},
   "source": [
    "## Paso 6: Exploración y conclusión sobre los supuestos de la regresión a partir del modelo construido (estudiante 2)"
   ]
  },
  {
   "cell_type": "markdown",
   "id": "0df32573",
   "metadata": {},
   "source": [
    "## Paso 7: Desarrollo de las transformaciones complementarias para cumplir con los supuestos de la regresión e interpretación de los coeficientes del modelo (estudiante 2)"
   ]
  },
  {
   "cell_type": "markdown",
   "id": "cec4db21",
   "metadata": {},
   "source": [
    "## Paso 8: Presentación de diapositivas para  FutAlpes F.C con resultados a nivel cuantitativo y cualitativo del mejor modelo construido, recomendaciones dadas a la empresa y visualizaciones extraidas del notebook (estudiante 3)"
   ]
  },
  {
   "cell_type": "markdown",
   "id": "4e10cb10",
   "metadata": {},
   "source": [
    "## Paso 9: Archivo  y resultado de predicciones sobre los datos de prueba en formato CSV. Se tomará como base el RMSE para ordenar y asignar la nota del grupo."
   ]
  },
  {
   "cell_type": "markdown",
   "id": "c055e675",
   "metadata": {},
   "source": [
    "## Paso 10: Notebook ejecutado, que incluye el detalle de los nombres de los estudiantes que representan el estudiante 1, 2 y 3."
   ]
  }
 ],
 "metadata": {
  "kernelspec": {
   "display_name": "venv",
   "language": "python",
   "name": "python3"
  },
  "language_info": {
   "codemirror_mode": {
    "name": "ipython",
    "version": 3
   },
   "file_extension": ".py",
   "mimetype": "text/x-python",
   "name": "python",
   "nbconvert_exporter": "python",
   "pygments_lexer": "ipython3",
   "version": "3.12.10"
  }
 },
 "nbformat": 4,
 "nbformat_minor": 5
}
