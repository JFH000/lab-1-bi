{
 "cells": [
  {
   "cell_type": "markdown",
   "id": "d3bef8d9",
   "metadata": {},
   "source": [
    "# Laboratorio 1 BI"
   ]
  },
  {
   "cell_type": "markdown",
   "id": "8454a68e",
   "metadata": {},
   "source": [
    "## Paso 0: Configuración inicial y equipo\n",
    "\n",
    "### Virtual enviroment\n",
    "``` bash\n",
    "pip install virtualenv\n",
    "python -m venv venv\n",
    "venv\\Scripts\\activate\n",
    "pip install pandas matplotlib seaborn scikit-learn\n",
    "```"
   ]
  },
  {
   "cell_type": "markdown",
   "id": "84f538ba",
   "metadata": {},
   "source": [
    "### Equipo\n",
    "\n",
    "- Estudiante 1: \n",
    "- Estudiante 2: Juan Felipe Hernández\n",
    "- Estudiante 3: "
   ]
  },
  {
   "cell_type": "markdown",
   "id": "f974008f",
   "metadata": {},
   "source": [
    "## Paso 1: Descripción y entendimeinto de datos"
   ]
  },
  {
   "cell_type": "markdown",
   "id": "671ee883",
   "metadata": {},
   "source": [
    "- [ ] **Dimensionamiento del conjunto de datos: numero de jugadores y numero de variables**\n",
    "- [ ] **Tipos de datos: Identificar y listar variables clasificandolas por tipos y categorias**\n",
    "- [x] **Identificación de variable objetivo** -> Valor de mercado del jugador"
   ]
  },
  {
   "cell_type": "markdown",
   "id": "cab5baa5",
   "metadata": {},
   "source": [
    "## Paso 2: Descripción del proceso de selección de variables"
   ]
  },
  {
   "cell_type": "markdown",
   "id": "9c8a75f0",
   "metadata": {},
   "source": [
    "## Paso 3: Descripción e implementación del proceso de preparación de datos + limpieza de datos (estudiante 3)"
   ]
  },
  {
   "cell_type": "markdown",
   "id": "a917e7a9",
   "metadata": {},
   "source": [
    "## Paso 4: Construcción del modelo de regersión ineal y cálculo de sus métricas de calidad (estudiante 1)"
   ]
  },
  {
   "cell_type": "markdown",
   "id": "7a3ff4b3",
   "metadata": {},
   "source": [
    "## Paso 5: Implementación del pipeline con todas las transformaciones requeridas para la generación de predicciones, exportado en formato .joblib (estudiante 1)"
   ]
  },
  {
   "cell_type": "markdown",
   "id": "d8fa1177",
   "metadata": {},
   "source": [
    "## Paso 6: Exploración y conclusión sobre los supuestos de la regresión a partir del modelo construido (estudiante 2)"
   ]
  },
  {
   "cell_type": "markdown",
   "id": "0df32573",
   "metadata": {},
   "source": [
    "## Paso 7: Desarrollo de las transformaciones complementarias para cumplir con los supuestos de la regresión e interpretación de los coeficientes del modelo (estudiante 2)"
   ]
  },
  {
   "cell_type": "markdown",
   "id": "cec4db21",
   "metadata": {},
   "source": [
    "## Paso 8: Presentación de diapositivas para  FutAlpes F.C con resultados a nivel cuantitativo y cualitativo del mejor modelo construido, recomendaciones dadas a la empresa y visualizaciones extraidas del notebook (estudiante 3)"
   ]
  },
  {
   "cell_type": "markdown",
   "id": "4e10cb10",
   "metadata": {},
   "source": [
    "## Paso 9: Archivo  y resultado de predicciones sobre los datos de prueba en formato CSV. Se tomará como base el RMSE para ordenar y asignar la nota del grupo."
   ]
  },
  {
   "cell_type": "markdown",
   "id": "c055e675",
   "metadata": {},
   "source": [
    "## Paso 10: Notebook ejecutado, que incluye el detalle de los nombres de los estudiantes que representan el estudiante 1, 2 y 3."
   ]
  }
 ],
 "metadata": {
  "kernelspec": {
   "display_name": "venv",
   "language": "python",
   "name": "python3"
  },
  "language_info": {
   "codemirror_mode": {
    "name": "ipython",
    "version": 3
   },
   "file_extension": ".py",
   "mimetype": "text/x-python",
   "name": "python",
   "nbconvert_exporter": "python",
   "pygments_lexer": "ipython3",
   "version": "3.12.10"
  }
 },
 "nbformat": 4,
 "nbformat_minor": 5
}
