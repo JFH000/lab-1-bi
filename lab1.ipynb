version https://git-lfs.github.com/spec/v1
oid sha256:b131117838c9a1d983636587cfeb0a27d8e6f600054f38ca7f77949f58c7a5b2
size 74458
