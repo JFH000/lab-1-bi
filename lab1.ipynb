version https://git-lfs.github.com/spec/v1
oid sha256:1c92afbd24d912dcd42a3c5f156f76f9ed9ecd8b9690141606470f148847cb0b
size 98599
