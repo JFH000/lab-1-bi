version https://git-lfs.github.com/spec/v1
oid sha256:19e00607d15f7359535b441376e8ffac7eb4441e8b3f3a6f48994f9a707f8260
size 492675
